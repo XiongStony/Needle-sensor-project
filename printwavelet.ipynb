{
 "cells": [
  {
   "cell_type": "code",
   "execution_count": 14,
   "id": "2b3f3d41",
   "metadata": {},
   "outputs": [],
   "source": [
    "import numpy as np\n",
    "import matplotlib.pyplot as plt\n",
    "import pywt\n",
    "import myMLlib as lb\n",
    "import pandas as pd"
   ]
  },
  {
   "cell_type": "code",
   "execution_count": 15,
   "id": "33ce9d3f",
   "metadata": {},
   "outputs": [],
   "source": [
    "folderpath= ('/home/yuqster/files/research/dataset/autostop_new1','/home/yuqster/files/research/dataset/autostop_new2',\n",
    "             '/home/yuqster/files/research/dataset/autostop_new3','/home/yuqster/files/research/dataset/autostop_new4')\n",
    "\n",
    "\n",
    "materials = ['air','water']"
   ]
  },
  {
   "cell_type": "code",
   "execution_count": 16,
   "id": "6ada94cb",
   "metadata": {},
   "outputs": [],
   "source": [
    "data_list,labels = lb.load_data_list(folderpath,materials, 4e4)\n",
    "X = np.array(data_list[0])\n",
    "y = np.array(labels[0])\n",
    "index = {}\n",
    "unique_labels = np.unique(y)\n",
    "index['air'] = np.where(y == unique_labels[0])\n",
    "index['water'] = np.where(y == unique_labels[1])\n",
    "\n"
   ]
  },
  {
   "cell_type": "code",
   "execution_count": 17,
   "id": "aa1f939b",
   "metadata": {},
   "outputs": [
    {
     "name": "stdout",
     "output_type": "stream",
     "text": [
      "(16883, 4096)\n"
     ]
    }
   ],
   "source": [
    "time_file = pd.read_csv('/home/yuqster/files/research/dataset/autostop_new1/time_vector.csv',usecols=[1])\n",
    "time = np.array(time_file).squeeze()\n",
    "air = X[index['air']].squeeze()\n",
    "water = X[index['water']].squeeze()\n",
    "print(air.shape)"
   ]
  },
  {
   "cell_type": "code",
   "execution_count": 18,
   "id": "1d903bb5",
   "metadata": {},
   "outputs": [
    {
     "name": "stdout",
     "output_type": "stream",
     "text": [
      "13892280.558947226\n",
      "(4096,)\n"
     ]
    }
   ],
   "source": [
    "fs = len(time)/time[-1]\n",
    "print(fs)\n",
    "air_mean = air.mean(axis=0)\n",
    "\n",
    "print(air_mean.shape)"
   ]
  },
  {
   "cell_type": "code",
   "execution_count": 20,
   "id": "7d7f023c",
   "metadata": {},
   "outputs": [
    {
     "ename": "KeyboardInterrupt",
     "evalue": "",
     "output_type": "error",
     "traceback": [
      "\u001b[0;31m---------------------------------------------------------------------------\u001b[0m",
      "\u001b[0;31mKeyboardInterrupt\u001b[0m                         Traceback (most recent call last)",
      "Cell \u001b[0;32mIn[20], line 3\u001b[0m\n\u001b[1;32m      1\u001b[0m scales \u001b[38;5;241m=\u001b[39m np\u001b[38;5;241m.\u001b[39marange(\u001b[38;5;241m20e3\u001b[39m, \u001b[38;5;241m200e3\u001b[39m)\n\u001b[1;32m      2\u001b[0m wavelet \u001b[38;5;241m=\u001b[39m pywt\u001b[38;5;241m.\u001b[39mContinuousWavelet(\u001b[38;5;124m'\u001b[39m\u001b[38;5;124mcmor10-1.0\u001b[39m\u001b[38;5;124m'\u001b[39m)\n\u001b[0;32m----> 3\u001b[0m cwtmatr, freqs \u001b[38;5;241m=\u001b[39m pywt\u001b[38;5;241m.\u001b[39mcwt(air_mean, scales, wavelet,\n\u001b[1;32m      4\u001b[0m                            sampling_period\u001b[38;5;241m=\u001b[39m\u001b[38;5;241m1\u001b[39m\u001b[38;5;241m/\u001b[39mfs)\n\u001b[1;32m      6\u001b[0m plt\u001b[38;5;241m.\u001b[39mfigure(figsize\u001b[38;5;241m=\u001b[39m(\u001b[38;5;241m8\u001b[39m,\u001b[38;5;241m4\u001b[39m))\n\u001b[1;32m      7\u001b[0m plt\u001b[38;5;241m.\u001b[39mpcolormesh(time, freqs, np\u001b[38;5;241m.\u001b[39mabs(cwtmatr),\n\u001b[1;32m      8\u001b[0m                shading\u001b[38;5;241m=\u001b[39m\u001b[38;5;124m'\u001b[39m\u001b[38;5;124mauto\u001b[39m\u001b[38;5;124m'\u001b[39m)\n",
      "File \u001b[0;32m~/anaconda3/lib/python3.12/site-packages/pywt/_cwt.py:161\u001b[0m, in \u001b[0;36mcwt\u001b[0;34m(data, scales, wavelet, sampling_period, method, axis)\u001b[0m\n\u001b[1;32m    159\u001b[0m \u001b[38;5;28;01mif\u001b[39;00m method \u001b[38;5;241m==\u001b[39m \u001b[38;5;124m'\u001b[39m\u001b[38;5;124mconv\u001b[39m\u001b[38;5;124m'\u001b[39m:\n\u001b[1;32m    160\u001b[0m     \u001b[38;5;28;01mif\u001b[39;00m data\u001b[38;5;241m.\u001b[39mndim \u001b[38;5;241m==\u001b[39m \u001b[38;5;241m1\u001b[39m:\n\u001b[0;32m--> 161\u001b[0m         conv \u001b[38;5;241m=\u001b[39m np\u001b[38;5;241m.\u001b[39mconvolve(data, int_psi_scale)\n\u001b[1;32m    162\u001b[0m     \u001b[38;5;28;01melse\u001b[39;00m:\n\u001b[1;32m    163\u001b[0m         \u001b[38;5;66;03m# batch convolution via loop\u001b[39;00m\n\u001b[1;32m    164\u001b[0m         conv_shape \u001b[38;5;241m=\u001b[39m \u001b[38;5;28mlist\u001b[39m(data\u001b[38;5;241m.\u001b[39mshape)\n",
      "File \u001b[0;32m~/anaconda3/lib/python3.12/site-packages/numpy/core/numeric.py:834\u001b[0m, in \u001b[0;36mconvolve\u001b[0;34m(a, v, mode)\u001b[0m\n\u001b[1;32m    832\u001b[0m \u001b[38;5;28;01mif\u001b[39;00m \u001b[38;5;28mlen\u001b[39m(v) \u001b[38;5;241m==\u001b[39m \u001b[38;5;241m0\u001b[39m:\n\u001b[1;32m    833\u001b[0m     \u001b[38;5;28;01mraise\u001b[39;00m \u001b[38;5;167;01mValueError\u001b[39;00m(\u001b[38;5;124m'\u001b[39m\u001b[38;5;124mv cannot be empty\u001b[39m\u001b[38;5;124m'\u001b[39m)\n\u001b[0;32m--> 834\u001b[0m \u001b[38;5;28;01mreturn\u001b[39;00m multiarray\u001b[38;5;241m.\u001b[39mcorrelate(a, v[::\u001b[38;5;241m-\u001b[39m\u001b[38;5;241m1\u001b[39m], mode)\n",
      "\u001b[0;31mKeyboardInterrupt\u001b[0m: "
     ]
    }
   ],
   "source": [
    "\n",
    "scales = np.arange(20e3, 200e3)\n",
    "wavelet = pywt.ContinuousWavelet('cmor10-1.0')\n",
    "cwtmatr, freqs = pywt.cwt(air_mean, scales, wavelet,\n",
    "                           sampling_period=1/fs)\n",
    "\n",
    "plt.figure(figsize=(8,4))\n",
    "plt.pcolormesh(time, freqs, np.abs(cwtmatr),\n",
    "               shading='auto')\n",
    "plt.xlabel('Time [s]')\n",
    "plt.ylabel('Frequency [Hz]')\n",
    "plt.title('CWT Scalogram')\n",
    "plt.show()"
   ]
  }
 ],
 "metadata": {
  "kernelspec": {
   "display_name": "base",
   "language": "python",
   "name": "python3"
  },
  "language_info": {
   "codemirror_mode": {
    "name": "ipython",
    "version": 3
   },
   "file_extension": ".py",
   "mimetype": "text/x-python",
   "name": "python",
   "nbconvert_exporter": "python",
   "pygments_lexer": "ipython3",
   "version": "3.12.7"
  }
 },
 "nbformat": 4,
 "nbformat_minor": 5
}
